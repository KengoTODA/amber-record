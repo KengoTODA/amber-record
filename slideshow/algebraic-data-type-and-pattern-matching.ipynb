{
  "cells": [{
  "cell_type": "markdown",
  "metadata": {
  "slideshow": {
    "slide_type": "slide"
  }
}
,
  "source": ["# Algebraic Data Types and Pattern Matching\n"]
}
,
{
  "cell_type": "markdown",
  "metadata": {
  "slideshow": {
    "slide_type": "slide"
  }
}
,
  "source": ["# Algebraic Data Types and Where to find them ?\n"]
}
,
{
  "cell_type": "markdown",
  "metadata": {
  "slideshow": {
    "slide_type": "slide"
  }
}
,
  "source": ["## Algebraic Data Types\n", "Composite type of product types and sum types\n", "- product types  (tuple)\n", "  (A x B x C)\n", "- sum type  (union)\n", "  (A | B | C)\n"]
}
,
{
  "cell_type": "markdown",
  "metadata": {
  "slideshow": {
    "slide_type": "slide"
  }
}
,
  "source": ["## Algebraic Data Types in OCaml\n", "Examples of product types and sum types in OCaml\n", "```ocaml\n", "type car = { brand: string; color: string; };;\n", "type bus = { brand: string; height: float; };;\n"]
}
,
{
  "cell_type": "code",
  "execution_count": null,
  "metadata": {},
  "outputs": [],
  "source": ["//"]
}
,
{
  "cell_type": "markdown",
  "metadata": {},
  "source": ["type vehicle = Car of car | Bus of bus ;;\n", "```\n"]
}
,
{
  "cell_type": "markdown",
  "metadata": {
  "slideshow": {
    "slide_type": "slide"
  }
}
,
  "source": ["## Pattern Matching\n", "```ocaml\n", "let color = function\n", " | Car { color=c } -> c\n", " | Bus _ -> \"yellow\"\n", " ;;\n", "```\n"]
}
,
{
  "cell_type": "markdown",
  "metadata": {
  "slideshow": {
    "slide_type": "slide"
  }
}
,
  "source": ["## Pattern Matching: when clause\n", "```ocaml\n", "let okayForLowBridge = function\n", " | Car _ -> true\n", " | Bus { height=h } when h < 12.0 -> true\n", " | _ -> false\n", " ;;\n", "```\n"]
}
,
{
  "cell_type": "markdown",
  "metadata": {
  "slideshow": {
    "slide_type": "slide"
  }
}
,
  "source": ["## Equivalence in OOP\n", "- sum type  (interface)\n", "  ```java\n", "  interface Vehicle { }\n", "  ```\n", "- product types  (class)\n", "  ```java\n", "  class Bus implements Vehicle {\n", "    String name; double height;\n", "  }\n", "  ```\n"]
}
,
{
  "cell_type": "markdown",
  "metadata": {
  "slideshow": {
    "slide_type": "slide"
  }
}
,
  "source": ["## Differences FP vs OOP\n"]
}
,
{
  "cell_type": "code",
  "execution_count": null,
  "metadata": {},
  "outputs": [],
  "source": ["//"]
}
,
{
  "cell_type": "markdown",
  "metadata": {},
  "source": ["OOP defines open types, closed functions (methods)\n", "FP defines closed types, open functions\n"]
}
,
{
  "cell_type": "markdown",
  "metadata": {
  "slideshow": {
    "slide_type": "slide"
  }
}
,
  "source": ["## Pattern matching: behaviors on close types\n"]
}
,
{
  "cell_type": "code",
  "execution_count": null,
  "metadata": {},
  "outputs": [],
  "source": ["//"]
}
,
{
  "cell_type": "markdown",
  "metadata": {},
  "source": ["|                |     Function     |     Method     |\n", "|                |      (open)      |     (close)    |\n", "| -------------- | ---------------- | -------------- |\n", "| Open interface | pattern matching |  polymorphism  |\n", "| Close ???      | pattern matching |  polymorphism  |\n", "| -------------- | ---------------- | -------------- |\n"]
}
,
{
  "cell_type": "markdown",
  "metadata": {
  "slideshow": {
    "slide_type": "slide"
  }
}
,
  "source": ["# Pattern Matching in Java\n"]
}
,
{
  "cell_type": "markdown",
  "metadata": {
  "slideshow": {
    "slide_type": "slide"
  }
}
,
  "source": ["## Plan\n", "- expression switch (Java 12 to 14)\n", "- record  (Java 14+)\n", "- sealed interface (Java 15+)\n", "- instanceof (Java 14+)\n", "- future ?\n"]
}
,
{
  "cell_type": "markdown",
  "metadata": {
  "slideshow": {
    "slide_type": "slide"
  }
}
,
  "source": ["# Expression Switch\n", "- enhance switch to be an expression\n", "- fix C switch warts ?\n"]
}
,
{
  "cell_type": "markdown",
  "metadata": {
  "slideshow": {
    "slide_type": "slide"
  }
}
,
  "source": ["## What wrong with the C switch ?\n", "`break` is easy to forget (fallthrough)\n", "The scope of the local variable is weird\n"]
}
,
{
  "cell_type": "code",
  "execution_count": null,
  "metadata": {},
  "outputs": [],
  "source": ["void color(String vehicle) {\n", "  switch(vehicle) {\n", "    case \"car\":\n", "    case \"sedan\":\n", "      var length = vehicle.length();\n", "      System.out.println((length < 4)? \"blue\": \"red\");\n", "      // oops\n", "    case \"bus\":\n", "      var length = 0;   // oops\n", "      System.out.println(\"yellow\");\n", "      break;\n", "  }  // oops no default\n", "}\n", "color(\"sedan\");"]
}
,
{
  "cell_type": "markdown",
  "metadata": {
  "slideshow": {
    "slide_type": "slide"
  }
}
,
  "source": ["## Arrow Syntax\n", "- avoid fallthrough: use curly braces\n", "- allow comma separated values\n"]
}
,
{
  "cell_type": "code",
  "execution_count": null,
  "metadata": {},
  "outputs": [],
  "source": ["void color(String vehicle) {\n", "  switch(vehicle) {\n", "    case \"car\", \"sedan\" -> {\n", "      var length = vehicle.length();\n", "      System.out.println((length < 4)? \"blue\": \"red\");\n", "    }\n", "    case \"bus\" -> {\n", "      var length = 0;\n", "      System.out.println(\"yellow\");\n", "    }\n", "  } // oops no default\n", "}\n", "color(\"sedan\");"]
}
,
{
  "cell_type": "markdown",
  "metadata": {
  "slideshow": {
    "slide_type": "slide"
  }
}
,
  "source": ["## Expression Switch\n", "switch can be used as an expression\n", "`default` is mandatory !\n"]
}
,
{
  "cell_type": "code",
  "execution_count": null,
  "metadata": {},
  "outputs": [],
  "source": ["void color(String vehicle) {\n", "  return switch(vehicle) {\n", "    case \"car\", \"sedan\" -> {\n", "      var length = vehicle.length();\n", "      yield (length < 4)? \"blue\": \"red\";\n", "    }\n", "    case \"bus\" -> \"yellow\";\n", "    default -> {\n", "      throw new AssertionError();\n", "    }\n", "  };\n", "}\n", "System.out.println(color(\"sedan\"));"]
}
,
{
  "cell_type": "markdown",
  "metadata": {
  "slideshow": {
    "slide_type": "slide"
  }
}
,
  "source": ["## Yield backward compatibility issue\n", "`yield` is enable as keyword only at the start of an instruction\n"]
}
,
{
  "cell_type": "code",
  "execution_count": null,
  "metadata": {},
  "outputs": [],
  "source": ["void yield(int value) { }\n", "void color(String vehicle) {\n", "  yield (42);\n", "}"]
}
,
{
  "cell_type": "markdown",
  "metadata": {
  "slideshow": {
    "slide_type": "slide"
  }
}
,
  "source": ["## Future\n", "```java\n", "String color(Vehicle vehicle) {\n", "  return switch(vehicle) {\n", "    case Car(String brand, Color color) -> color;\n", "    case Bus(String brand, double height) -> \"yellow\";\n", "  };  //no default\n", "}\n", "```\n"]
}
,
{
  "cell_type": "markdown",
  "metadata": {},
  "source": ["we need to be able to deconstruct a class\n"]
}
,
{
  "cell_type": "markdown",
  "metadata": {
  "slideshow": {
    "slide_type": "slide"
  }
}
,
  "source": ["# Record\n"]
}
,
{
  "cell_type": "code",
  "execution_count": null,
  "metadata": {},
  "outputs": [],
  "source": ["//\n", "record Bus(String brand, double height) { }"]
}
,
{
  "cell_type": "code",
  "execution_count": null,
  "metadata": {},
  "outputs": [],
  "source": ["var bus = new Bus(\"imperial\", 7);\n", "System.out.println(bus);"]
}
,
{
  "cell_type": "markdown",
  "metadata": {
  "slideshow": {
    "slide_type": "slide"
  }
}
,
  "source": ["## Constructors\n"]
}
,
{
  "cell_type": "code",
  "execution_count": null,
  "metadata": {},
  "outputs": [],
  "source": ["record Bus(String brand, double height) {\n", "  // canonical constructor, generated automatically\n", "  // public Bus(String brand, double height) {\n", "  //   ...\n", "  // }"]
}
,
{
  "cell_type": "code",
  "execution_count": null,
  "metadata": {},
  "outputs": [],
  "source": ["  // compact constructor\n", "  public Bus {\n", "    Objects.requireNonNull(brand);\n", "  }\n", "}"]
}
,
{
  "cell_type": "markdown",
  "metadata": {
  "slideshow": {
    "slide_type": "slide"
  }
}
,
  "source": ["## equals, hashCode and toString\n", "are automatically generated\n"]
}
,
{
  "cell_type": "code",
  "execution_count": null,
  "metadata": {},
  "outputs": [],
  "source": ["record Bus(String brand, double height) { }"]
}
,
{
  "cell_type": "code",
  "execution_count": null,
  "metadata": {},
  "outputs": [],
  "source": ["var bus1 = new Bus(\"imperial\", 7);\n", "var bus2 = new Bus(\"imperial\", 7);\n", "System.out.println(bus1.equals(bus2));"]
}
,
{
  "cell_type": "markdown",
  "metadata": {
  "slideshow": {
    "slide_type": "slide"
  }
}
,
  "source": ["## Records are immutable\n", "Avoid mutation during the matching\n", "```java\n", "String color(Vehicle vehicle) {\n", "  return switch(vehicle) {\n", "    case Bus(_, double height) when (bus.height = 3) < 11 -> {}\n", "    case Bus(_, double height) when bus.height == 3) -> {}\n", "    default -> ...\n", "  };\n", "}\n", "```\n"]
}
,
{
  "cell_type": "markdown",
  "metadata": {
  "slideshow": {
    "slide_type": "slide"
  }
}
,
  "source": ["## Reflection support\n"]
}
,
{
  "cell_type": "code",
  "execution_count": null,
  "metadata": {},
  "outputs": [],
  "source": ["record Bus(String brand, double height) { }"]
}
,
{
  "cell_type": "code",
  "execution_count": null,
  "metadata": {},
  "outputs": [],
  "source": ["var components = List.of(Bus.class.getRecordComponents());\n", "System.out.println(components);"]
}
,
{
  "cell_type": "markdown",
  "metadata": {
  "slideshow": {
    "slide_type": "slide"
  }
}
,
  "source": ["## Restrictions\n", "- shallow immutability\n", "- no inheritance\n", "- other constructors has to delegate to primary constructor,\n", "  initializer blocks are not supported\n"]
}
,
{
  "cell_type": "markdown",
  "metadata": {
  "slideshow": {
    "slide_type": "slide"
  }
}
,
  "source": ["# Sealed interface\n"]
}
,
{
  "cell_type": "markdown",
  "metadata": {
  "slideshow": {
    "slide_type": "slide"
  }
}
,
  "source": ["## Closed hierarchy\n", "Add a keyword `sealed` + a `permits` list\n"]
}
,
{
  "cell_type": "code",
  "execution_count": null,
  "metadata": {},
  "outputs": [],
  "source": ["sealed interface Vehicle\n", "  permits Car, Bus { }\n", "record Car(String brand, String color) implements Vehicle { }\n", "record Bus(String brand, double height) implements Vehicle { }"]
}
,
{
  "cell_type": "markdown",
  "metadata": {
  "slideshow": {
    "slide_type": "slide"
  }
}
,
  "source": ["## Add inference of `permits` clause ?\n", "The clause `permits` is inferred if everything in the same compilation unit\n"]
}
,
{
  "cell_type": "code",
  "execution_count": null,
  "metadata": {},
  "outputs": [],
  "source": ["sealed interface Vehicle {\n", "   // inferred permits Car, Bus\n", "  record Car(String brand, String color) implements Vehicle { }\n", "  record Bus(String brand, double height) implements Vehicle { }\n", "}"]
}
,
{
  "cell_type": "markdown",
  "metadata": {
  "slideshow": {
    "slide_type": "slide"
  }
}
,
  "source": ["## Exhaustiveness\n", "The compiler doesn't require the `default` clause anymore.\n", "```java\n", "String color(Vehicle vehicle) {\n", "  return switch(vehicle) {\n", "    case Car car -> car.color;\n", "    case Bus bus -> \"yellow\";\n", "  };  //no default\n", "}\n", "```\n", "but before switch on type, let starts by enhancing `instanceof`\n"]
}
,
{
  "cell_type": "markdown",
  "metadata": {
  "slideshow": {
    "slide_type": "slide"
  }
}
,
  "source": ["# Enhanced `instanceof`\n"]
}
,
{
  "cell_type": "markdown",
  "metadata": {},
  "source": ["Fix what's wrong + introduce pattern matching\n"]
}
,
{
  "cell_type": "markdown",
  "metadata": {
  "slideshow": {
    "slide_type": "slide"
  }
}
,
  "source": ["## What wrong with the old instanceof ?\n", "The cast is unnecessary.\n"]
}
,
{
  "cell_type": "code",
  "execution_count": null,
  "metadata": {},
  "outputs": [],
  "source": ["record Bus(String brand, double height) {\n", "  public boolean equals(Object o) {\n", "    if (!(o instanceof Bus)) {\n", "      return false;\n", "    }\n", "    var bus = (Bus) o;   // <-- that cast\n", "    return brand.equals(bus.brand)\n", "        && Double.equals(height, bus.height);\n", "  }\n", "}"]
}
,
{
  "cell_type": "markdown",
  "metadata": {},
  "source": ["> The VM routinely removes it, so it's not present\n", "> in the generated assembly code\n"]
}
,
{
  "cell_type": "markdown",
  "metadata": {
  "slideshow": {
    "slide_type": "slide"
  }
}
,
  "source": ["# Type test Pattern\n"]
}
,
{
  "cell_type": "markdown",
  "metadata": {
  "slideshow": {
    "slide_type": "slide"
  }
}
,
  "source": ["## Type test pattern\n", "Declare a variable available if the `instanceof` is true\n"]
}
,
{
  "cell_type": "code",
  "execution_count": null,
  "metadata": {},
  "outputs": [],
  "source": ["record Bus(String brand, double height) {\n", "  public boolean equals(Object o) {\n", "    return o instanceof Bus bus\n", "        && brand.equals(bus.brand)\n", "        && Double.equals(height, bus.height);\n", "  }\n", "}\n", "var bus = new Bus(\"imperial\", 7);\n", "var bus2 = new Bus(\"imperial\", 7);\n", "System.out.println(bus.equals(bus2));"]
}
,
{
  "cell_type": "markdown",
  "metadata": {
  "slideshow": {
    "slide_type": "slide"
  }
}
,
  "source": ["## Deconstructing\n"]
}
,
{
  "cell_type": "code",
  "execution_count": null,
  "metadata": {},
  "outputs": [],
  "source": ["record Bus(String brand, double height) {\n", "  public boolean equals(Object o) {\n", "    return o instanceof Bus(String brand2, double height2)\n", "      && brand.equals(brand2)\n", "      && Double.equals(height, height2);\n", "  }\n", "}\n", "var bus = new Bus(\"imperial\", 7);\n", "var bus2 = new Bus(\"imperial\", 7);\n", "System.out.println(bus.equals(bus2));"]
}
,
{
  "cell_type": "markdown",
  "metadata": {
  "slideshow": {
    "slide_type": "slide"
  }
}
,
  "source": ["## Deconstructing + var\n"]
}
,
{
  "cell_type": "code",
  "execution_count": null,
  "metadata": {},
  "outputs": [],
  "source": ["record Bus(String brand, double height) {\n", "  public boolean equals(Object o) {\n", "    return o instanceof Bus(var brand2, var height2)\n", "      && brand.equals(brand2)\n", "      && Double.equals(height, height2);\n", "  }\n", "}\n", "var bus = new Bus(\"imperial\", 7);\n", "var bus2 = new Bus(\"imperial\", 7);\n", "System.out.println(bus.equals(bus2));"]
}
,
{
  "cell_type": "markdown",
  "metadata": {
  "slideshow": {
    "slide_type": "slide"
  }
}
,
  "source": ["## Type test vs Code block\n"]
}
,
{
  "cell_type": "code",
  "execution_count": null,
  "metadata": {},
  "outputs": [],
  "source": ["record Bus(String brand, double height) {\n", "  public boolean equals(Object o){\n", "    if (o instanceof Bus bus) {\n", "      return brand.equals(bus.brand)\n", "          && Double.equals(height, bus.height);\n", "    }\n", "    return false;\n", "  }\n", "}"]
}
,
{
  "cell_type": "markdown",
  "metadata": {
  "slideshow": {
    "slide_type": "slide"
  }
}
,
  "source": ["## Type test vs Code block\n"]
}
,
{
  "cell_type": "code",
  "execution_count": null,
  "metadata": {},
  "outputs": [],
  "source": ["record Bus(String brand, double height) {\n", "  public boolean equals(Object o){\n", "    if (!(o instanceof Bus bus)) {\n", "      return false;\n", "    }\n", "    return brand.equals(author.bran)\n", "        && Double.equals(height, bus.height);\n", "  }\n", "}"]
}
,
{
  "cell_type": "markdown",
  "metadata": {
  "slideshow": {
    "slide_type": "slide"
  }
}
,
  "source": ["## More fun\n"]
}
,
{
  "cell_type": "code",
  "execution_count": null,
  "metadata": {},
  "outputs": [],
  "source": ["public double add(Object o1, Object o2) {\n", "  if (o1 instanceof Integer i1 && o2 instanceof Integer i2) {\n", "    return i1 + i2;\n", "  }\n", "  throw new ArithmeticException();\n", "}"]
}
,
{
  "cell_type": "markdown",
  "metadata": {
  "slideshow": {
    "slide_type": "slide"
  }
}
,
  "source": ["## Even funnier\n"]
}
,
{
  "cell_type": "code",
  "execution_count": null,
  "metadata": {},
  "outputs": [],
  "source": ["public void loop(Object o) {\n", "  while((o instanceof Boolean) && o) {\n", "    System.out.println(o);\n", "    o = false;\n", "  }\n", "}\n", "loop(true);"]
}
,
{
  "cell_type": "markdown",
  "metadata": {
  "slideshow": {
    "slide_type": "slide"
  }
}
,
  "source": ["# Future\n"]
}
,
{
  "cell_type": "markdown",
  "metadata": {
  "slideshow": {
    "slide_type": "slide"
  }
}
,
  "source": ["## Switch on types\n", "```java\n", "String brand(Vehicle vehicle) {\n", "  return switch(vehicle) {\n", "    case Car car -> car.brand;\n", "    case Bus bus -> bus.brand;\n", "  };  //no default\n", "}\n", "```\n"]
}
,
{
  "cell_type": "markdown",
  "metadata": {
  "slideshow": {
    "slide_type": "slide"
  }
}
,
  "source": ["# Deconstruction of local declaration\n"]
}
,
{
  "cell_type": "markdown",
  "metadata": {
  "slideshow": {
    "slide_type": "slide"
  }
}
,
  "source": ["## Extracting values of a record\n"]
}
,
{
  "cell_type": "code",
  "execution_count": null,
  "metadata": {},
  "outputs": [],
  "source": ["record Car(String brand, String color) {}\n", "var car = new Car(\"imperial\", \"red\");\n", "var brand = car.brand();\n", "var color = car.color();\n", "System.out.println(brand + \" \" + color);"]
}
,
{
  "cell_type": "markdown",
  "metadata": {
  "slideshow": {
    "slide_type": "slide"
  }
}
,
  "source": ["## Use destructuring\n", "```java\n", "record Car(String brand, String color) {}\n"]
}
,
{
  "cell_type": "code",
  "execution_count": null,
  "metadata": {},
  "outputs": [],
  "source": ["//"]
}
,
{
  "cell_type": "markdown",
  "metadata": {},
  "source": ["var car = new Car(\"imperial\", \"red\");\n", "Car(String owner, String color) = car;\n", "System.out.println(owner + \" \" + color);\n", "```\n"]
}
,
{
  "cell_type": "markdown",
  "metadata": {
  "slideshow": {
    "slide_type": "slide"
  }
}
,
  "source": ["## With inference\n", "Reusing `var` and `_`\n", "```java\n", "record Car(String brand, String color) {}\n"]
}
,
{
  "cell_type": "code",
  "execution_count": null,
  "metadata": {},
  "outputs": [],
  "source": ["//"]
}
,
{
  "cell_type": "markdown",
  "metadata": {},
  "source": ["var car = new Car(\"imperial\", \"red\");\n", "Car(_, var color) = car;\n", "System.out.println(color);\n", "```\n"]
}
,
{
  "cell_type": "markdown",
  "metadata": {
  "slideshow": {
    "slide_type": "slide"
  }
}
,
  "source": ["# Tuple ?\n"]
}
,
{
  "cell_type": "markdown",
  "metadata": {
  "slideshow": {
    "slide_type": "slide"
  }
}
,
  "source": ["## Use inference\n", "Removing the name of the type which can be inferred too\n", "```java\n", "record Car(String brand, String color) {}\n"]
}
,
{
  "cell_type": "code",
  "execution_count": null,
  "metadata": {},
  "outputs": [],
  "source": ["//"]
}
,
{
  "cell_type": "markdown",
  "metadata": {},
  "source": ["Car car = (\"imperial\", \"red\");   // inference\n", "(_, var color) = car;            // inference\n", "System.out.println(color);\n", "```\n"]
}
,
{
  "cell_type": "markdown",
  "metadata": {
  "slideshow": {
    "slide_type": "slide"
  }
}
,
  "source": ["## Inference in for loop (tuple)\n", "The type Map.Entry is inferred\n", "```java\n", "Map<String, Car> mapNameToCar = ...\n", "for((var name, var car) : mapNameToCar.entrySet()) {\n", "  System.out.println(name + \" \" + car);\n", "}\n", "```\n"]
}
,
{
  "cell_type": "markdown",
  "metadata": {
  "slideshow": {
    "slide_type": "slide"
  }
}
,
  "source": ["# Deconstruction in switch\n"]
}
,
{
  "cell_type": "markdown",
  "metadata": {
  "slideshow": {
    "slide_type": "slide"
  }
}
,
  "source": ["## A switch on types + destructuring\n", "Allow to de-construct the content of a record\n", "```java\n", "String brand(Vehicle vehicle) {\n", "  return switch(vehicle) {\n", "    case Car(var brand, _) -> brand;\n", "    case Bus(var brand, _) -> brand;\n", "  };  //no default\n", "}\n", "```\n"]
}
,
{
  "cell_type": "markdown",
  "metadata": {
  "slideshow": {
    "slide_type": "slide"
  }
}
,
  "source": ["## And inferring a structural common super type\n", "```java\n", "String ownerOf(Vehicle vehicle) {\n", "  return switch(vehicle) {\n", "    case Car(var brand, _), Bus(var brand, _) -> brand;\n", "  };  //no default\n", "}\n", "```\n"]
}
,
{
  "cell_type": "markdown",
  "metadata": {
  "slideshow": {
    "slide_type": "slide"
  }
}
,
  "source": ["# Conclusion: Full Pattern Matching\n"]
}
,
{
  "cell_type": "markdown",
  "metadata": {
  "slideshow": {
    "slide_type": "slide"
  }
}
,
  "source": ["## Kind of patterns\n", "- __null pattern__ (`null`), match only `null`\n", "- __type test pattern__ (`Foo foo`) match the type (not `null`)\n", "  - __var test pattern__ (`var foo`) infer the type\n", "  - __any test pattern__ (`_`) don't introduce a variable\n", "- __or pattern__ (`pattern1, pattern2`) match either one side or the other\n", "- __extraction pattern__ (`(..., pattern, ...)`) match a component\n", "- __constant pattern__ (`123`) match the constant value\n"]
}
,
{
  "cell_type": "markdown",
  "metadata": {},
  "source": ["`var` or `_` are just inference, no special matching\n"]
}
],
  "metadata": {
    "celltoolbar": "Slideshow",
    "kernelspec": {
      "display_name": "Java",
      "language": "java",
      "name": "java"
    },
    "language_info": {
      "codemirror_mode": "java",
      "file_extension": ".java",
      "mimetype": "text/x-java-source",
      "name": "Java",
      "pygments_lexer": "java",
      "version": "15"
    },
    "rise": {
      "autolaunch": true
    }
  },
  "nbformat": 4,
  "nbformat_minor": 2
}

